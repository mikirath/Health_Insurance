{
 "cells": [
  {
   "cell_type": "markdown",
   "id": "1ef9e4fd",
   "metadata": {},
   "source": [
    "## Problem Statement\n",
    "\n",
    "The aim of the project is to estimate the approximate cost of a person's health insurance based on the given variables. While creating the project, try to follow the instructions below and make sure that the project is unique."
   ]
  },
  {
   "cell_type": "code",
   "execution_count": 1,
   "id": "60d1a1bf",
   "metadata": {},
   "outputs": [],
   "source": [
    "import pandas as pd\n",
    "import numpy as np\n",
    "\n",
    "import matplotlib.pyplot as plt\n",
    "import seaborn as sns\n",
    "\n",
    "from sklearn.model_selection import train_test_split\n",
    "from sklearn.preprocessing import LabelEncoder\n",
    "from sklearn.preprocessing import MinMaxScaler\n",
    "\n",
    "from sklearn.linear_model import LinearRegression\n",
    "from sklearn.ensemble import RandomForestRegressor\n",
    "from sklearn.tree import DecisionTreeRegressor\n",
    "from sklearn.neural_network import MLPRegressor\n",
    "from sklearn.linear_model import RidgeCV\n",
    "from sklearn.metrics import r2_score\n",
    "from sklearn.metrics import mean_squared_error\n",
    "import warnings\n",
    "warnings.simplefilter(\"ignore\")\n",
    "\n",
    "from sklearn.metrics import classification_report"
   ]
  },
  {
   "cell_type": "code",
   "execution_count": 2,
   "id": "aa08e0a8",
   "metadata": {},
   "outputs": [
    {
     "data": {
      "text/html": [
       "<div>\n",
       "<style scoped>\n",
       "    .dataframe tbody tr th:only-of-type {\n",
       "        vertical-align: middle;\n",
       "    }\n",
       "\n",
       "    .dataframe tbody tr th {\n",
       "        vertical-align: top;\n",
       "    }\n",
       "\n",
       "    .dataframe thead th {\n",
       "        text-align: right;\n",
       "    }\n",
       "</style>\n",
       "<table border=\"1\" class=\"dataframe\">\n",
       "  <thead>\n",
       "    <tr style=\"text-align: right;\">\n",
       "      <th></th>\n",
       "      <th>age</th>\n",
       "      <th>sex</th>\n",
       "      <th>bmi</th>\n",
       "      <th>children</th>\n",
       "      <th>smoker</th>\n",
       "      <th>region</th>\n",
       "      <th>charges</th>\n",
       "    </tr>\n",
       "  </thead>\n",
       "  <tbody>\n",
       "    <tr>\n",
       "      <th>0</th>\n",
       "      <td>19</td>\n",
       "      <td>female</td>\n",
       "      <td>27.900</td>\n",
       "      <td>0</td>\n",
       "      <td>yes</td>\n",
       "      <td>southwest</td>\n",
       "      <td>16884.92400</td>\n",
       "    </tr>\n",
       "    <tr>\n",
       "      <th>1</th>\n",
       "      <td>18</td>\n",
       "      <td>male</td>\n",
       "      <td>33.770</td>\n",
       "      <td>1</td>\n",
       "      <td>no</td>\n",
       "      <td>southeast</td>\n",
       "      <td>1725.55230</td>\n",
       "    </tr>\n",
       "    <tr>\n",
       "      <th>2</th>\n",
       "      <td>28</td>\n",
       "      <td>male</td>\n",
       "      <td>33.000</td>\n",
       "      <td>3</td>\n",
       "      <td>no</td>\n",
       "      <td>southeast</td>\n",
       "      <td>4449.46200</td>\n",
       "    </tr>\n",
       "    <tr>\n",
       "      <th>3</th>\n",
       "      <td>33</td>\n",
       "      <td>male</td>\n",
       "      <td>22.705</td>\n",
       "      <td>0</td>\n",
       "      <td>no</td>\n",
       "      <td>northwest</td>\n",
       "      <td>21984.47061</td>\n",
       "    </tr>\n",
       "    <tr>\n",
       "      <th>4</th>\n",
       "      <td>32</td>\n",
       "      <td>male</td>\n",
       "      <td>28.880</td>\n",
       "      <td>0</td>\n",
       "      <td>no</td>\n",
       "      <td>northwest</td>\n",
       "      <td>3866.85520</td>\n",
       "    </tr>\n",
       "  </tbody>\n",
       "</table>\n",
       "</div>"
      ],
      "text/plain": [
       "   age     sex     bmi  children smoker     region      charges\n",
       "0   19  female  27.900         0    yes  southwest  16884.92400\n",
       "1   18    male  33.770         1     no  southeast   1725.55230\n",
       "2   28    male  33.000         3     no  southeast   4449.46200\n",
       "3   33    male  22.705         0     no  northwest  21984.47061\n",
       "4   32    male  28.880         0     no  northwest   3866.85520"
      ]
     },
     "execution_count": 2,
     "metadata": {},
     "output_type": "execute_result"
    }
   ],
   "source": [
    "df = pd.read_csv(\"insurance.csv\")\n",
    "\n",
    "df.head()"
   ]
  },
  {
   "cell_type": "code",
   "execution_count": 3,
   "id": "341bf2cf",
   "metadata": {},
   "outputs": [
    {
     "data": {
      "text/html": [
       "<div>\n",
       "<style scoped>\n",
       "    .dataframe tbody tr th:only-of-type {\n",
       "        vertical-align: middle;\n",
       "    }\n",
       "\n",
       "    .dataframe tbody tr th {\n",
       "        vertical-align: top;\n",
       "    }\n",
       "\n",
       "    .dataframe thead th {\n",
       "        text-align: right;\n",
       "    }\n",
       "</style>\n",
       "<table border=\"1\" class=\"dataframe\">\n",
       "  <thead>\n",
       "    <tr style=\"text-align: right;\">\n",
       "      <th></th>\n",
       "      <th>age</th>\n",
       "      <th>bmi</th>\n",
       "      <th>children</th>\n",
       "      <th>charges</th>\n",
       "    </tr>\n",
       "  </thead>\n",
       "  <tbody>\n",
       "    <tr>\n",
       "      <th>count</th>\n",
       "      <td>1338.000000</td>\n",
       "      <td>1338.000000</td>\n",
       "      <td>1338.000000</td>\n",
       "      <td>1338.000000</td>\n",
       "    </tr>\n",
       "    <tr>\n",
       "      <th>mean</th>\n",
       "      <td>39.207025</td>\n",
       "      <td>30.663397</td>\n",
       "      <td>1.094918</td>\n",
       "      <td>13270.422265</td>\n",
       "    </tr>\n",
       "    <tr>\n",
       "      <th>std</th>\n",
       "      <td>14.049960</td>\n",
       "      <td>6.098187</td>\n",
       "      <td>1.205493</td>\n",
       "      <td>12110.011237</td>\n",
       "    </tr>\n",
       "    <tr>\n",
       "      <th>min</th>\n",
       "      <td>18.000000</td>\n",
       "      <td>15.960000</td>\n",
       "      <td>0.000000</td>\n",
       "      <td>1121.873900</td>\n",
       "    </tr>\n",
       "    <tr>\n",
       "      <th>25%</th>\n",
       "      <td>27.000000</td>\n",
       "      <td>26.296250</td>\n",
       "      <td>0.000000</td>\n",
       "      <td>4740.287150</td>\n",
       "    </tr>\n",
       "    <tr>\n",
       "      <th>50%</th>\n",
       "      <td>39.000000</td>\n",
       "      <td>30.400000</td>\n",
       "      <td>1.000000</td>\n",
       "      <td>9382.033000</td>\n",
       "    </tr>\n",
       "    <tr>\n",
       "      <th>75%</th>\n",
       "      <td>51.000000</td>\n",
       "      <td>34.693750</td>\n",
       "      <td>2.000000</td>\n",
       "      <td>16639.912515</td>\n",
       "    </tr>\n",
       "    <tr>\n",
       "      <th>max</th>\n",
       "      <td>64.000000</td>\n",
       "      <td>53.130000</td>\n",
       "      <td>5.000000</td>\n",
       "      <td>63770.428010</td>\n",
       "    </tr>\n",
       "  </tbody>\n",
       "</table>\n",
       "</div>"
      ],
      "text/plain": [
       "               age          bmi     children       charges\n",
       "count  1338.000000  1338.000000  1338.000000   1338.000000\n",
       "mean     39.207025    30.663397     1.094918  13270.422265\n",
       "std      14.049960     6.098187     1.205493  12110.011237\n",
       "min      18.000000    15.960000     0.000000   1121.873900\n",
       "25%      27.000000    26.296250     0.000000   4740.287150\n",
       "50%      39.000000    30.400000     1.000000   9382.033000\n",
       "75%      51.000000    34.693750     2.000000  16639.912515\n",
       "max      64.000000    53.130000     5.000000  63770.428010"
      ]
     },
     "execution_count": 3,
     "metadata": {},
     "output_type": "execute_result"
    }
   ],
   "source": [
    "df.describe()"
   ]
  },
  {
   "cell_type": "code",
   "execution_count": 4,
   "id": "7316437c",
   "metadata": {},
   "outputs": [
    {
     "name": "stdout",
     "output_type": "stream",
     "text": [
      "<class 'pandas.core.frame.DataFrame'>\n",
      "RangeIndex: 1338 entries, 0 to 1337\n",
      "Data columns (total 7 columns):\n",
      " #   Column    Non-Null Count  Dtype  \n",
      "---  ------    --------------  -----  \n",
      " 0   age       1338 non-null   int64  \n",
      " 1   sex       1338 non-null   object \n",
      " 2   bmi       1338 non-null   float64\n",
      " 3   children  1338 non-null   int64  \n",
      " 4   smoker    1338 non-null   object \n",
      " 5   region    1338 non-null   object \n",
      " 6   charges   1338 non-null   float64\n",
      "dtypes: float64(2), int64(2), object(3)\n",
      "memory usage: 73.3+ KB\n"
     ]
    }
   ],
   "source": [
    "df.info()"
   ]
  },
  {
   "cell_type": "markdown",
   "id": "9bc8667a",
   "metadata": {},
   "source": [
    "### Exploratory Data Analysis"
   ]
  },
  {
   "cell_type": "markdown",
   "id": "fd5c8a50",
   "metadata": {},
   "source": [
    "#### Univariate Analysis"
   ]
  },
  {
   "cell_type": "code",
   "execution_count": 5,
   "id": "a31b2695",
   "metadata": {},
   "outputs": [
    {
     "data": {
      "image/png": "[encoded data removed]",
      "text/plain": [
       "<Figure size 432x288 with 1 Axes>"
      ]
     },
     "metadata": {
      "needs_background": "light"
     },
     "output_type": "display_data"
    }
   ],
   "source": [
    "# Distribution of bmi\n",
    "\n",
    "sns.distplot(df['bmi'],bins=100,kde=True)\n",
    "plt.show()\n",
    "\n",
    "#Observation: bmi is normally distributed around 30"
   ]
  },
  {
   "cell_type": "markdown",
   "id": "3aebae27",
   "metadata": {},
   "source": [
    "#### Bivariate Analysis"
   ]
  },
  {
   "cell_type": "code",
   "execution_count": 6,
   "id": "948a4405",
   "metadata": {},
   "outputs": [
    {
     "data": {
      "image/png": "[encoded data removed]",
      "text/plain": [
       "<Figure size 432x288 with 1 Axes>"
      ]
     },
     "metadata": {
      "needs_background": "light"
     },
     "output_type": "display_data"
    }
   ],
   "source": [
    "# relationship between “smoker” and “charges”\n",
    "\n",
    "sns.boxplot(x = 'smoker', y = 'charges', data = df)\n",
    "plt.show()\n",
    "\n",
    "# Observation: The charges of health insurance are higher for smokers"
   ]
  },
  {
   "cell_type": "code",
   "execution_count": 7,
   "id": "c4d8d04e",
   "metadata": {},
   "outputs": [
    {
     "data": {
      "text/plain": [
       "<AxesSubplot:xlabel='smoker', ylabel='Count'>"
      ]
     },
     "execution_count": 7,
     "metadata": {},
     "output_type": "execute_result"
    },
    {
     "data": {
      "image/png": "[encoded data removed]",
      "text/plain": [
       "<Figure size 432x288 with 1 Axes>"
      ]
     },
     "metadata": {
      "needs_background": "light"
     },
     "output_type": "display_data"
    }
   ],
   "source": [
    "# relationship between “smoker” and “region”\n",
    "\n",
    "sns.histplot(binwidth=0.5, x=\"smoker\", hue=\"region\", data=df, stat=\"count\", multiple=\"stack\")\n",
    "\n",
    "# Observation: The number of smokers are less compared to non-smokers across region"
   ]
  },
  {
   "cell_type": "code",
   "execution_count": 8,
   "id": "a7786d20",
   "metadata": {},
   "outputs": [
    {
     "data": {
      "text/plain": [
       "<AxesSubplot:xlabel='sex', ylabel='bmi'>"
      ]
     },
     "execution_count": 8,
     "metadata": {},
     "output_type": "execute_result"
    },
    {
     "data": {
      "image/png": "[encoded data removed]",
      "text/plain": [
       "<Figure size 432x288 with 1 Axes>"
      ]
     },
     "metadata": {
      "needs_background": "light"
     },
     "output_type": "display_data"
    }
   ],
   "source": [
    "# relationship between “bmi” and “sex”.\n",
    "\n",
    "sns.boxplot(x = 'sex', y = 'bmi', data = df)\n",
    "\n",
    "# Observation: The boxplot shows that there is no impact of bmi on age as both have similar median bmi"
   ]
  },
  {
   "cell_type": "code",
   "execution_count": 9,
   "id": "362b0a0d",
   "metadata": {},
   "outputs": [
    {
     "data": {
      "text/html": [
       "<div>\n",
       "<style scoped>\n",
       "    .dataframe tbody tr th:only-of-type {\n",
       "        vertical-align: middle;\n",
       "    }\n",
       "\n",
       "    .dataframe tbody tr th {\n",
       "        vertical-align: top;\n",
       "    }\n",
       "\n",
       "    .dataframe thead th {\n",
       "        text-align: right;\n",
       "    }\n",
       "</style>\n",
       "<table border=\"1\" class=\"dataframe\">\n",
       "  <thead>\n",
       "    <tr style=\"text-align: right;\">\n",
       "      <th></th>\n",
       "      <th>Region</th>\n",
       "      <th>Number of Children</th>\n",
       "    </tr>\n",
       "  </thead>\n",
       "  <tbody>\n",
       "    <tr>\n",
       "      <th>0</th>\n",
       "      <td>northeast</td>\n",
       "      <td>339</td>\n",
       "    </tr>\n",
       "    <tr>\n",
       "      <th>1</th>\n",
       "      <td>northwest</td>\n",
       "      <td>373</td>\n",
       "    </tr>\n",
       "    <tr>\n",
       "      <th>2</th>\n",
       "      <td>southeast</td>\n",
       "      <td>382</td>\n",
       "    </tr>\n",
       "    <tr>\n",
       "      <th>3</th>\n",
       "      <td>southwest</td>\n",
       "      <td>371</td>\n",
       "    </tr>\n",
       "  </tbody>\n",
       "</table>\n",
       "</div>"
      ],
      "text/plain": [
       "      Region  Number of Children\n",
       "0  northeast                 339\n",
       "1  northwest                 373\n",
       "2  southeast                 382\n",
       "3  southwest                 371"
      ]
     },
     "execution_count": 9,
     "metadata": {},
     "output_type": "execute_result"
    }
   ],
   "source": [
    "# \"region\" with the most \"children\"\n",
    "df_plot = df.groupby('region').agg({'children': 'sum'}).reset_index().rename(columns={'region':'Region', 'children': 'Number of Children'})\n",
    "df_plot"
   ]
  },
  {
   "cell_type": "code",
   "execution_count": 10,
   "id": "e461b00c",
   "metadata": {},
   "outputs": [
    {
     "data": {
      "text/plain": [
       "[Text(0, 0, '339'), Text(0, 0, '373'), Text(0, 0, '382'), Text(0, 0, '371')]"
      ]
     },
     "execution_count": 10,
     "metadata": {},
     "output_type": "execute_result"
    },
    {
     "data": {
      "image/png": "[encoded data removed]",
      "text/plain": [
       "<Figure size 432x288 with 1 Axes>"
      ]
     },
     "metadata": {
      "needs_background": "light"
     },
     "output_type": "display_data"
    }
   ],
   "source": [
    "plot = sns.barplot( x = 'Region', y = 'Number of Children', data = df_plot)\n",
    "plot.bar_label(plot.containers[0])\n",
    "\n",
    "# Observation: From the plot it is evident that most of the children are from \"South-East\" region"
   ]
  },
  {
   "cell_type": "code",
   "execution_count": 11,
   "id": "78a3abb7",
   "metadata": {},
   "outputs": [
    {
     "data": {
      "text/plain": [
       "<AxesSubplot:xlabel='age', ylabel='bmi'>"
      ]
     },
     "execution_count": 11,
     "metadata": {},
     "output_type": "execute_result"
    },
    {
     "data": {
      "image/png": "[encoded data removed]",
      "text/plain": [
       "<Figure size 432x288 with 1 Axes>"
      ]
     },
     "metadata": {
      "needs_background": "light"
     },
     "output_type": "display_data"
    }
   ],
   "source": [
    "# relationship between “age” and “bmi”\n",
    "\n",
    "sns.lineplot(x = 'age', y = 'bmi', data = df)\n",
    "\n",
    "# Observation: There is a slight increase in bmi with age"
   ]
  },
  {
   "cell_type": "code",
   "execution_count": 12,
   "id": "227b85bf",
   "metadata": {},
   "outputs": [
    {
     "data": {
      "text/plain": [
       "<AxesSubplot:xlabel='children', ylabel='bmi'>"
      ]
     },
     "execution_count": 12,
     "metadata": {},
     "output_type": "execute_result"
    },
    {
     "data": {
      "image/png": "[encoded data removed]",
      "text/plain": [
       "<Figure size 432x288 with 1 Axes>"
      ]
     },
     "metadata": {
      "needs_background": "light"
     },
     "output_type": "display_data"
    }
   ],
   "source": [
    "# relationship between “bmi” and “children”\n",
    "\n",
    "sns.barplot(x = 'children', y = 'bmi', data = df)\n",
    "\n",
    "# Observation: The number of a children of a person does not impact on his/her bmi"
   ]
  },
  {
   "cell_type": "code",
   "execution_count": 13,
   "id": "0e6d475e",
   "metadata": {},
   "outputs": [
    {
     "data": {
      "text/plain": [
       "<AxesSubplot:xlabel='bmi'>"
      ]
     },
     "execution_count": 13,
     "metadata": {},
     "output_type": "execute_result"
    },
    {
     "data": {
      "image/png": "[encoded data removed]",
      "text/plain": [
       "<Figure size 432x288 with 1 Axes>"
      ]
     },
     "metadata": {
      "needs_background": "light"
     },
     "output_type": "display_data"
    }
   ],
   "source": [
    "# outlier in the \"bmi\" variable?\n",
    "\n",
    "sns.boxplot(x = df['bmi'])\n",
    "\n",
    "#Observation: Outliers exist for 'bmi' variable as evident from boxplot below"
   ]
  },
  {
   "cell_type": "code",
   "execution_count": 14,
   "id": "28cdb429",
   "metadata": {},
   "outputs": [
    {
     "data": {
      "text/plain": [
       "<AxesSubplot:xlabel='bmi', ylabel='charges'>"
      ]
     },
     "execution_count": 14,
     "metadata": {},
     "output_type": "execute_result"
    },
    {
     "data": {
      "image/png": "[encoded data removed]",
      "text/plain": [
       "<Figure size 432x288 with 1 Axes>"
      ]
     },
     "metadata": {
      "needs_background": "light"
     },
     "output_type": "display_data"
    }
   ],
   "source": [
    "# relationship between “bmi” and “charges”\n",
    "\n",
    "sns.regplot(x = 'bmi', y = 'charges', data = df)\n",
    "\n",
    "# Observation: There doesn't seem to be any relationship between “bmi” and “charges”"
   ]
  },
  {
   "cell_type": "code",
   "execution_count": 15,
   "id": "e41c5a53",
   "metadata": {},
   "outputs": [
    {
     "data": {
      "text/plain": [
       "<AxesSubplot:xlabel='region', ylabel='bmi'>"
      ]
     },
     "execution_count": 15,
     "metadata": {},
     "output_type": "execute_result"
    },
    {
     "data": {
      "image/png": "[encoded data removed]",
      "text/plain": [
       "<Figure size 432x288 with 1 Axes>"
      ]
     },
     "metadata": {
      "needs_background": "light"
     },
     "output_type": "display_data"
    }
   ],
   "source": [
    "# relationship between “region”, “smoker” and “bmi” using bar plot\n",
    "\n",
    "sns.barplot(x = 'region', y = 'bmi', hue = 'smoker', data = df)\n",
    "\n",
    "# Observation: The bmi in southeast region is highest for both smokers and non-smokers. However across the regions there \n",
    "# does not seem to be significant difference in bmi due to smoking habit"
   ]
  },
  {
   "cell_type": "markdown",
   "id": "3a5b0d63",
   "metadata": {},
   "source": [
    "### Data Preprocessing"
   ]
  },
  {
   "cell_type": "code",
   "execution_count": 16,
   "id": "a584b3c8",
   "metadata": {},
   "outputs": [],
   "source": [
    "df['sex'] = df['sex'].replace({'female':1,'male':0})\n",
    "df['smoker'] = df['smoker'].replace({'yes':1,'no':0})"
   ]
  },
  {
   "cell_type": "code",
   "execution_count": 17,
   "id": "dedab6bb",
   "metadata": {},
   "outputs": [
    {
     "data": {
      "text/html": [
       "<div>\n",
       "<style scoped>\n",
       "    .dataframe tbody tr th:only-of-type {\n",
       "        vertical-align: middle;\n",
       "    }\n",
       "\n",
       "    .dataframe tbody tr th {\n",
       "        vertical-align: top;\n",
       "    }\n",
       "\n",
       "    .dataframe thead th {\n",
       "        text-align: right;\n",
       "    }\n",
       "</style>\n",
       "<table border=\"1\" class=\"dataframe\">\n",
       "  <thead>\n",
       "    <tr style=\"text-align: right;\">\n",
       "      <th></th>\n",
       "      <th>age</th>\n",
       "      <th>sex</th>\n",
       "      <th>bmi</th>\n",
       "      <th>children</th>\n",
       "      <th>smoker</th>\n",
       "      <th>region</th>\n",
       "      <th>charges</th>\n",
       "    </tr>\n",
       "  </thead>\n",
       "  <tbody>\n",
       "    <tr>\n",
       "      <th>0</th>\n",
       "      <td>19</td>\n",
       "      <td>1</td>\n",
       "      <td>27.900</td>\n",
       "      <td>0</td>\n",
       "      <td>1</td>\n",
       "      <td>southwest</td>\n",
       "      <td>16884.92400</td>\n",
       "    </tr>\n",
       "    <tr>\n",
       "      <th>1</th>\n",
       "      <td>18</td>\n",
       "      <td>0</td>\n",
       "      <td>33.770</td>\n",
       "      <td>1</td>\n",
       "      <td>0</td>\n",
       "      <td>southeast</td>\n",
       "      <td>1725.55230</td>\n",
       "    </tr>\n",
       "    <tr>\n",
       "      <th>2</th>\n",
       "      <td>28</td>\n",
       "      <td>0</td>\n",
       "      <td>33.000</td>\n",
       "      <td>3</td>\n",
       "      <td>0</td>\n",
       "      <td>southeast</td>\n",
       "      <td>4449.46200</td>\n",
       "    </tr>\n",
       "    <tr>\n",
       "      <th>3</th>\n",
       "      <td>33</td>\n",
       "      <td>0</td>\n",
       "      <td>22.705</td>\n",
       "      <td>0</td>\n",
       "      <td>0</td>\n",
       "      <td>northwest</td>\n",
       "      <td>21984.47061</td>\n",
       "    </tr>\n",
       "    <tr>\n",
       "      <th>4</th>\n",
       "      <td>32</td>\n",
       "      <td>0</td>\n",
       "      <td>28.880</td>\n",
       "      <td>0</td>\n",
       "      <td>0</td>\n",
       "      <td>northwest</td>\n",
       "      <td>3866.85520</td>\n",
       "    </tr>\n",
       "  </tbody>\n",
       "</table>\n",
       "</div>"
      ],
      "text/plain": [
       "   age  sex     bmi  children  smoker     region      charges\n",
       "0   19    1  27.900         0       1  southwest  16884.92400\n",
       "1   18    0  33.770         1       0  southeast   1725.55230\n",
       "2   28    0  33.000         3       0  southeast   4449.46200\n",
       "3   33    0  22.705         0       0  northwest  21984.47061\n",
       "4   32    0  28.880         0       0  northwest   3866.85520"
      ]
     },
     "execution_count": 17,
     "metadata": {},
     "output_type": "execute_result"
    }
   ],
   "source": [
    "df.head()"
   ]
  },
  {
   "cell_type": "code",
   "execution_count": 18,
   "id": "31571c23",
   "metadata": {},
   "outputs": [
    {
     "data": {
      "text/html": [
       "<div>\n",
       "<style scoped>\n",
       "    .dataframe tbody tr th:only-of-type {\n",
       "        vertical-align: middle;\n",
       "    }\n",
       "\n",
       "    .dataframe tbody tr th {\n",
       "        vertical-align: top;\n",
       "    }\n",
       "\n",
       "    .dataframe thead th {\n",
       "        text-align: right;\n",
       "    }\n",
       "</style>\n",
       "<table border=\"1\" class=\"dataframe\">\n",
       "  <thead>\n",
       "    <tr style=\"text-align: right;\">\n",
       "      <th></th>\n",
       "      <th>northwest</th>\n",
       "      <th>southeast</th>\n",
       "      <th>southwest</th>\n",
       "    </tr>\n",
       "  </thead>\n",
       "  <tbody>\n",
       "    <tr>\n",
       "      <th>0</th>\n",
       "      <td>0</td>\n",
       "      <td>0</td>\n",
       "      <td>1</td>\n",
       "    </tr>\n",
       "    <tr>\n",
       "      <th>1</th>\n",
       "      <td>0</td>\n",
       "      <td>1</td>\n",
       "      <td>0</td>\n",
       "    </tr>\n",
       "    <tr>\n",
       "      <th>2</th>\n",
       "      <td>0</td>\n",
       "      <td>1</td>\n",
       "      <td>0</td>\n",
       "    </tr>\n",
       "    <tr>\n",
       "      <th>3</th>\n",
       "      <td>1</td>\n",
       "      <td>0</td>\n",
       "      <td>0</td>\n",
       "    </tr>\n",
       "    <tr>\n",
       "      <th>4</th>\n",
       "      <td>1</td>\n",
       "      <td>0</td>\n",
       "      <td>0</td>\n",
       "    </tr>\n",
       "  </tbody>\n",
       "</table>\n",
       "</div>"
      ],
      "text/plain": [
       "   northwest  southeast  southwest\n",
       "0          0          0          1\n",
       "1          0          1          0\n",
       "2          0          1          0\n",
       "3          1          0          0\n",
       "4          1          0          0"
      ]
     },
     "execution_count": 18,
     "metadata": {},
     "output_type": "execute_result"
    }
   ],
   "source": [
    "reg_df = pd.get_dummies(df['region'], drop_first = True)\n",
    "reg_df.head()"
   ]
  },
  {
   "cell_type": "code",
   "execution_count": 19,
   "id": "857db2ef",
   "metadata": {},
   "outputs": [
    {
     "data": {
      "text/html": [
       "<div>\n",
       "<style scoped>\n",
       "    .dataframe tbody tr th:only-of-type {\n",
       "        vertical-align: middle;\n",
       "    }\n",
       "\n",
       "    .dataframe tbody tr th {\n",
       "        vertical-align: top;\n",
       "    }\n",
       "\n",
       "    .dataframe thead th {\n",
       "        text-align: right;\n",
       "    }\n",
       "</style>\n",
       "<table border=\"1\" class=\"dataframe\">\n",
       "  <thead>\n",
       "    <tr style=\"text-align: right;\">\n",
       "      <th></th>\n",
       "      <th>age</th>\n",
       "      <th>sex</th>\n",
       "      <th>bmi</th>\n",
       "      <th>children</th>\n",
       "      <th>smoker</th>\n",
       "      <th>region</th>\n",
       "      <th>charges</th>\n",
       "      <th>northwest</th>\n",
       "      <th>southeast</th>\n",
       "      <th>southwest</th>\n",
       "    </tr>\n",
       "  </thead>\n",
       "  <tbody>\n",
       "    <tr>\n",
       "      <th>0</th>\n",
       "      <td>19</td>\n",
       "      <td>1</td>\n",
       "      <td>27.900</td>\n",
       "      <td>0</td>\n",
       "      <td>1</td>\n",
       "      <td>southwest</td>\n",
       "      <td>16884.92400</td>\n",
       "      <td>0</td>\n",
       "      <td>0</td>\n",
       "      <td>1</td>\n",
       "    </tr>\n",
       "    <tr>\n",
       "      <th>1</th>\n",
       "      <td>18</td>\n",
       "      <td>0</td>\n",
       "      <td>33.770</td>\n",
       "      <td>1</td>\n",
       "      <td>0</td>\n",
       "      <td>southeast</td>\n",
       "      <td>1725.55230</td>\n",
       "      <td>0</td>\n",
       "      <td>1</td>\n",
       "      <td>0</td>\n",
       "    </tr>\n",
       "    <tr>\n",
       "      <th>2</th>\n",
       "      <td>28</td>\n",
       "      <td>0</td>\n",
       "      <td>33.000</td>\n",
       "      <td>3</td>\n",
       "      <td>0</td>\n",
       "      <td>southeast</td>\n",
       "      <td>4449.46200</td>\n",
       "      <td>0</td>\n",
       "      <td>1</td>\n",
       "      <td>0</td>\n",
       "    </tr>\n",
       "    <tr>\n",
       "      <th>3</th>\n",
       "      <td>33</td>\n",
       "      <td>0</td>\n",
       "      <td>22.705</td>\n",
       "      <td>0</td>\n",
       "      <td>0</td>\n",
       "      <td>northwest</td>\n",
       "      <td>21984.47061</td>\n",
       "      <td>1</td>\n",
       "      <td>0</td>\n",
       "      <td>0</td>\n",
       "    </tr>\n",
       "    <tr>\n",
       "      <th>4</th>\n",
       "      <td>32</td>\n",
       "      <td>0</td>\n",
       "      <td>28.880</td>\n",
       "      <td>0</td>\n",
       "      <td>0</td>\n",
       "      <td>northwest</td>\n",
       "      <td>3866.85520</td>\n",
       "      <td>1</td>\n",
       "      <td>0</td>\n",
       "      <td>0</td>\n",
       "    </tr>\n",
       "  </tbody>\n",
       "</table>\n",
       "</div>"
      ],
      "text/plain": [
       "   age  sex     bmi  children  smoker     region      charges  northwest  \\\n",
       "0   19    1  27.900         0       1  southwest  16884.92400          0   \n",
       "1   18    0  33.770         1       0  southeast   1725.55230          0   \n",
       "2   28    0  33.000         3       0  southeast   4449.46200          0   \n",
       "3   33    0  22.705         0       0  northwest  21984.47061          1   \n",
       "4   32    0  28.880         0       0  northwest   3866.85520          1   \n",
       "\n",
       "   southeast  southwest  \n",
       "0          0          1  \n",
       "1          1          0  \n",
       "2          1          0  \n",
       "3          0          0  \n",
       "4          0          0  "
      ]
     },
     "execution_count": 19,
     "metadata": {},
     "output_type": "execute_result"
    }
   ],
   "source": [
    "df = pd.concat([df, reg_df], axis = 1)\n",
    "df.head()"
   ]
  },
  {
   "cell_type": "code",
   "execution_count": 20,
   "id": "71448612",
   "metadata": {},
   "outputs": [
    {
     "data": {
      "text/html": [
       "<div>\n",
       "<style scoped>\n",
       "    .dataframe tbody tr th:only-of-type {\n",
       "        vertical-align: middle;\n",
       "    }\n",
       "\n",
       "    .dataframe tbody tr th {\n",
       "        vertical-align: top;\n",
       "    }\n",
       "\n",
       "    .dataframe thead th {\n",
       "        text-align: right;\n",
       "    }\n",
       "</style>\n",
       "<table border=\"1\" class=\"dataframe\">\n",
       "  <thead>\n",
       "    <tr style=\"text-align: right;\">\n",
       "      <th></th>\n",
       "      <th>age</th>\n",
       "      <th>sex</th>\n",
       "      <th>bmi</th>\n",
       "      <th>children</th>\n",
       "      <th>smoker</th>\n",
       "      <th>charges</th>\n",
       "      <th>northwest</th>\n",
       "      <th>southeast</th>\n",
       "      <th>southwest</th>\n",
       "    </tr>\n",
       "  </thead>\n",
       "  <tbody>\n",
       "    <tr>\n",
       "      <th>0</th>\n",
       "      <td>19</td>\n",
       "      <td>1</td>\n",
       "      <td>27.900</td>\n",
       "      <td>0</td>\n",
       "      <td>1</td>\n",
       "      <td>16884.92400</td>\n",
       "      <td>0</td>\n",
       "      <td>0</td>\n",
       "      <td>1</td>\n",
       "    </tr>\n",
       "    <tr>\n",
       "      <th>1</th>\n",
       "      <td>18</td>\n",
       "      <td>0</td>\n",
       "      <td>33.770</td>\n",
       "      <td>1</td>\n",
       "      <td>0</td>\n",
       "      <td>1725.55230</td>\n",
       "      <td>0</td>\n",
       "      <td>1</td>\n",
       "      <td>0</td>\n",
       "    </tr>\n",
       "    <tr>\n",
       "      <th>2</th>\n",
       "      <td>28</td>\n",
       "      <td>0</td>\n",
       "      <td>33.000</td>\n",
       "      <td>3</td>\n",
       "      <td>0</td>\n",
       "      <td>4449.46200</td>\n",
       "      <td>0</td>\n",
       "      <td>1</td>\n",
       "      <td>0</td>\n",
       "    </tr>\n",
       "    <tr>\n",
       "      <th>3</th>\n",
       "      <td>33</td>\n",
       "      <td>0</td>\n",
       "      <td>22.705</td>\n",
       "      <td>0</td>\n",
       "      <td>0</td>\n",
       "      <td>21984.47061</td>\n",
       "      <td>1</td>\n",
       "      <td>0</td>\n",
       "      <td>0</td>\n",
       "    </tr>\n",
       "    <tr>\n",
       "      <th>4</th>\n",
       "      <td>32</td>\n",
       "      <td>0</td>\n",
       "      <td>28.880</td>\n",
       "      <td>0</td>\n",
       "      <td>0</td>\n",
       "      <td>3866.85520</td>\n",
       "      <td>1</td>\n",
       "      <td>0</td>\n",
       "      <td>0</td>\n",
       "    </tr>\n",
       "  </tbody>\n",
       "</table>\n",
       "</div>"
      ],
      "text/plain": [
       "   age  sex     bmi  children  smoker      charges  northwest  southeast  \\\n",
       "0   19    1  27.900         0       1  16884.92400          0          0   \n",
       "1   18    0  33.770         1       0   1725.55230          0          1   \n",
       "2   28    0  33.000         3       0   4449.46200          0          1   \n",
       "3   33    0  22.705         0       0  21984.47061          1          0   \n",
       "4   32    0  28.880         0       0   3866.85520          1          0   \n",
       "\n",
       "   southwest  \n",
       "0          1  \n",
       "1          0  \n",
       "2          0  \n",
       "3          0  \n",
       "4          0  "
      ]
     },
     "execution_count": 20,
     "metadata": {},
     "output_type": "execute_result"
    }
   ],
   "source": [
    "df = df.drop('region', 1)\n",
    "df.head()"
   ]
  },
  {
   "cell_type": "code",
   "execution_count": 21,
   "id": "717d8869",
   "metadata": {
    "scrolled": true
   },
   "outputs": [
    {
     "name": "stdout",
     "output_type": "stream",
     "text": [
      "<class 'pandas.core.frame.DataFrame'>\n",
      "RangeIndex: 1338 entries, 0 to 1337\n",
      "Data columns (total 9 columns):\n",
      " #   Column     Non-Null Count  Dtype  \n",
      "---  ------     --------------  -----  \n",
      " 0   age        1338 non-null   int64  \n",
      " 1   sex        1338 non-null   int64  \n",
      " 2   bmi        1338 non-null   float64\n",
      " 3   children   1338 non-null   int64  \n",
      " 4   smoker     1338 non-null   int64  \n",
      " 5   charges    1338 non-null   float64\n",
      " 6   northwest  1338 non-null   uint8  \n",
      " 7   southeast  1338 non-null   uint8  \n",
      " 8   southwest  1338 non-null   uint8  \n",
      "dtypes: float64(2), int64(4), uint8(3)\n",
      "memory usage: 66.8 KB\n"
     ]
    }
   ],
   "source": [
    "df.info()"
   ]
  },
  {
   "cell_type": "markdown",
   "id": "552af879",
   "metadata": {},
   "source": [
    "#### Splitting into train and test"
   ]
  },
  {
   "cell_type": "code",
   "execution_count": 22,
   "id": "f0614b56",
   "metadata": {},
   "outputs": [],
   "source": [
    "df_train, df_test = train_test_split(df, train_size = 0.7, random_state = 100)"
   ]
  },
  {
   "cell_type": "code",
   "execution_count": 23,
   "id": "d1a6b01d",
   "metadata": {},
   "outputs": [
    {
     "name": "stdout",
     "output_type": "stream",
     "text": [
      "(936, 9)\n",
      "(402, 9)\n"
     ]
    }
   ],
   "source": [
    "print(df_train.shape)\n",
    "print(df_test.shape)"
   ]
  },
  {
   "cell_type": "markdown",
   "id": "3464555a",
   "metadata": {},
   "source": [
    "#### Rescaling the Features"
   ]
  },
  {
   "cell_type": "code",
   "execution_count": 24,
   "id": "460fdc1a",
   "metadata": {},
   "outputs": [
    {
     "data": {
      "text/html": [
       "<div>\n",
       "<style scoped>\n",
       "    .dataframe tbody tr th:only-of-type {\n",
       "        vertical-align: middle;\n",
       "    }\n",
       "\n",
       "    .dataframe tbody tr th {\n",
       "        vertical-align: top;\n",
       "    }\n",
       "\n",
       "    .dataframe thead th {\n",
       "        text-align: right;\n",
       "    }\n",
       "</style>\n",
       "<table border=\"1\" class=\"dataframe\">\n",
       "  <thead>\n",
       "    <tr style=\"text-align: right;\">\n",
       "      <th></th>\n",
       "      <th>age</th>\n",
       "      <th>sex</th>\n",
       "      <th>bmi</th>\n",
       "      <th>children</th>\n",
       "      <th>smoker</th>\n",
       "      <th>charges</th>\n",
       "      <th>northwest</th>\n",
       "      <th>southeast</th>\n",
       "      <th>southwest</th>\n",
       "    </tr>\n",
       "  </thead>\n",
       "  <tbody>\n",
       "    <tr>\n",
       "      <th>966</th>\n",
       "      <td>0.717391</td>\n",
       "      <td>0</td>\n",
       "      <td>0.237692</td>\n",
       "      <td>0.4</td>\n",
       "      <td>1</td>\n",
       "      <td>0.364661</td>\n",
       "      <td>1</td>\n",
       "      <td>0</td>\n",
       "      <td>0</td>\n",
       "    </tr>\n",
       "    <tr>\n",
       "      <th>522</th>\n",
       "      <td>0.717391</td>\n",
       "      <td>1</td>\n",
       "      <td>0.483051</td>\n",
       "      <td>0.0</td>\n",
       "      <td>0</td>\n",
       "      <td>0.139579</td>\n",
       "      <td>0</td>\n",
       "      <td>0</td>\n",
       "      <td>0</td>\n",
       "    </tr>\n",
       "    <tr>\n",
       "      <th>155</th>\n",
       "      <td>0.565217</td>\n",
       "      <td>0</td>\n",
       "      <td>0.633844</td>\n",
       "      <td>0.0</td>\n",
       "      <td>0</td>\n",
       "      <td>0.093008</td>\n",
       "      <td>1</td>\n",
       "      <td>0</td>\n",
       "      <td>0</td>\n",
       "    </tr>\n",
       "    <tr>\n",
       "      <th>671</th>\n",
       "      <td>0.239130</td>\n",
       "      <td>1</td>\n",
       "      <td>0.408932</td>\n",
       "      <td>0.0</td>\n",
       "      <td>0</td>\n",
       "      <td>0.045040</td>\n",
       "      <td>0</td>\n",
       "      <td>0</td>\n",
       "      <td>0</td>\n",
       "    </tr>\n",
       "    <tr>\n",
       "      <th>1173</th>\n",
       "      <td>0.434783</td>\n",
       "      <td>0</td>\n",
       "      <td>0.357815</td>\n",
       "      <td>0.4</td>\n",
       "      <td>0</td>\n",
       "      <td>0.085173</td>\n",
       "      <td>1</td>\n",
       "      <td>0</td>\n",
       "      <td>0</td>\n",
       "    </tr>\n",
       "  </tbody>\n",
       "</table>\n",
       "</div>"
      ],
      "text/plain": [
       "           age  sex       bmi  children  smoker   charges  northwest  \\\n",
       "966   0.717391    0  0.237692       0.4       1  0.364661          1   \n",
       "522   0.717391    1  0.483051       0.0       0  0.139579          0   \n",
       "155   0.565217    0  0.633844       0.0       0  0.093008          1   \n",
       "671   0.239130    1  0.408932       0.0       0  0.045040          0   \n",
       "1173  0.434783    0  0.357815       0.4       0  0.085173          1   \n",
       "\n",
       "      southeast  southwest  \n",
       "966           0          0  \n",
       "522           0          0  \n",
       "155           0          0  \n",
       "671           0          0  \n",
       "1173          0          0  "
      ]
     },
     "execution_count": 24,
     "metadata": {},
     "output_type": "execute_result"
    }
   ],
   "source": [
    "scaler = MinMaxScaler()\n",
    "\n",
    "# create a list of numeric vars\n",
    "num_vars = ['age', 'bmi', 'children', 'charges']\n",
    "\n",
    "# Fit on train data\n",
    "df_train[num_vars] = scaler.fit_transform(df_train[num_vars])\n",
    "df_train.head()"
   ]
  },
  {
   "cell_type": "code",
   "execution_count": 25,
   "id": "a991e2ae",
   "metadata": {},
   "outputs": [
    {
     "data": {
      "text/html": [
       "<div>\n",
       "<style scoped>\n",
       "    .dataframe tbody tr th:only-of-type {\n",
       "        vertical-align: middle;\n",
       "    }\n",
       "\n",
       "    .dataframe tbody tr th {\n",
       "        vertical-align: top;\n",
       "    }\n",
       "\n",
       "    .dataframe thead th {\n",
       "        text-align: right;\n",
       "    }\n",
       "</style>\n",
       "<table border=\"1\" class=\"dataframe\">\n",
       "  <thead>\n",
       "    <tr style=\"text-align: right;\">\n",
       "      <th></th>\n",
       "      <th>age</th>\n",
       "      <th>sex</th>\n",
       "      <th>bmi</th>\n",
       "      <th>children</th>\n",
       "      <th>smoker</th>\n",
       "      <th>charges</th>\n",
       "      <th>northwest</th>\n",
       "      <th>southeast</th>\n",
       "      <th>southwest</th>\n",
       "    </tr>\n",
       "  </thead>\n",
       "  <tbody>\n",
       "    <tr>\n",
       "      <th>count</th>\n",
       "      <td>936.000000</td>\n",
       "      <td>936.000000</td>\n",
       "      <td>936.000000</td>\n",
       "      <td>936.000000</td>\n",
       "      <td>936.000000</td>\n",
       "      <td>936.000000</td>\n",
       "      <td>936.000000</td>\n",
       "      <td>936.000000</td>\n",
       "      <td>936.000000</td>\n",
       "    </tr>\n",
       "    <tr>\n",
       "      <th>mean</th>\n",
       "      <td>0.458171</td>\n",
       "      <td>0.502137</td>\n",
       "      <td>0.399088</td>\n",
       "      <td>0.220513</td>\n",
       "      <td>0.194444</td>\n",
       "      <td>0.192301</td>\n",
       "      <td>0.244658</td>\n",
       "      <td>0.282051</td>\n",
       "      <td>0.242521</td>\n",
       "    </tr>\n",
       "    <tr>\n",
       "      <th>std</th>\n",
       "      <td>0.306065</td>\n",
       "      <td>0.500263</td>\n",
       "      <td>0.167115</td>\n",
       "      <td>0.241223</td>\n",
       "      <td>0.395984</td>\n",
       "      <td>0.193690</td>\n",
       "      <td>0.430114</td>\n",
       "      <td>0.450239</td>\n",
       "      <td>0.428837</td>\n",
       "    </tr>\n",
       "    <tr>\n",
       "      <th>min</th>\n",
       "      <td>0.000000</td>\n",
       "      <td>0.000000</td>\n",
       "      <td>0.000000</td>\n",
       "      <td>0.000000</td>\n",
       "      <td>0.000000</td>\n",
       "      <td>0.000000</td>\n",
       "      <td>0.000000</td>\n",
       "      <td>0.000000</td>\n",
       "      <td>0.000000</td>\n",
       "    </tr>\n",
       "    <tr>\n",
       "      <th>25%</th>\n",
       "      <td>0.173913</td>\n",
       "      <td>0.000000</td>\n",
       "      <td>0.277441</td>\n",
       "      <td>0.000000</td>\n",
       "      <td>0.000000</td>\n",
       "      <td>0.055033</td>\n",
       "      <td>0.000000</td>\n",
       "      <td>0.000000</td>\n",
       "      <td>0.000000</td>\n",
       "    </tr>\n",
       "    <tr>\n",
       "      <th>50%</th>\n",
       "      <td>0.456522</td>\n",
       "      <td>1.000000</td>\n",
       "      <td>0.391176</td>\n",
       "      <td>0.200000</td>\n",
       "      <td>0.000000</td>\n",
       "      <td>0.129662</td>\n",
       "      <td>0.000000</td>\n",
       "      <td>0.000000</td>\n",
       "      <td>0.000000</td>\n",
       "    </tr>\n",
       "    <tr>\n",
       "      <th>75%</th>\n",
       "      <td>0.717391</td>\n",
       "      <td>1.000000</td>\n",
       "      <td>0.512039</td>\n",
       "      <td>0.400000</td>\n",
       "      <td>0.000000</td>\n",
       "      <td>0.245247</td>\n",
       "      <td>0.000000</td>\n",
       "      <td>1.000000</td>\n",
       "      <td>0.000000</td>\n",
       "    </tr>\n",
       "    <tr>\n",
       "      <th>max</th>\n",
       "      <td>1.000000</td>\n",
       "      <td>1.000000</td>\n",
       "      <td>1.000000</td>\n",
       "      <td>1.000000</td>\n",
       "      <td>1.000000</td>\n",
       "      <td>1.000000</td>\n",
       "      <td>1.000000</td>\n",
       "      <td>1.000000</td>\n",
       "      <td>1.000000</td>\n",
       "    </tr>\n",
       "  </tbody>\n",
       "</table>\n",
       "</div>"
      ],
      "text/plain": [
       "              age         sex         bmi    children      smoker     charges  \\\n",
       "count  936.000000  936.000000  936.000000  936.000000  936.000000  936.000000   \n",
       "mean     0.458171    0.502137    0.399088    0.220513    0.194444    0.192301   \n",
       "std      0.306065    0.500263    0.167115    0.241223    0.395984    0.193690   \n",
       "min      0.000000    0.000000    0.000000    0.000000    0.000000    0.000000   \n",
       "25%      0.173913    0.000000    0.277441    0.000000    0.000000    0.055033   \n",
       "50%      0.456522    1.000000    0.391176    0.200000    0.000000    0.129662   \n",
       "75%      0.717391    1.000000    0.512039    0.400000    0.000000    0.245247   \n",
       "max      1.000000    1.000000    1.000000    1.000000    1.000000    1.000000   \n",
       "\n",
       "        northwest   southeast   southwest  \n",
       "count  936.000000  936.000000  936.000000  \n",
       "mean     0.244658    0.282051    0.242521  \n",
       "std      0.430114    0.450239    0.428837  \n",
       "min      0.000000    0.000000    0.000000  \n",
       "25%      0.000000    0.000000    0.000000  \n",
       "50%      0.000000    0.000000    0.000000  \n",
       "75%      0.000000    1.000000    0.000000  \n",
       "max      1.000000    1.000000    1.000000  "
      ]
     },
     "execution_count": 25,
     "metadata": {},
     "output_type": "execute_result"
    }
   ],
   "source": [
    "df_train.describe()"
   ]
  },
  {
   "cell_type": "code",
   "execution_count": 26,
   "id": "915688cd",
   "metadata": {},
   "outputs": [
    {
     "data": {
      "text/html": [
       "<div>\n",
       "<style scoped>\n",
       "    .dataframe tbody tr th:only-of-type {\n",
       "        vertical-align: middle;\n",
       "    }\n",
       "\n",
       "    .dataframe tbody tr th {\n",
       "        vertical-align: top;\n",
       "    }\n",
       "\n",
       "    .dataframe thead th {\n",
       "        text-align: right;\n",
       "    }\n",
       "</style>\n",
       "<table border=\"1\" class=\"dataframe\">\n",
       "  <thead>\n",
       "    <tr style=\"text-align: right;\">\n",
       "      <th></th>\n",
       "      <th>age</th>\n",
       "      <th>sex</th>\n",
       "      <th>bmi</th>\n",
       "      <th>children</th>\n",
       "      <th>smoker</th>\n",
       "      <th>charges</th>\n",
       "      <th>northwest</th>\n",
       "      <th>southeast</th>\n",
       "      <th>southwest</th>\n",
       "    </tr>\n",
       "  </thead>\n",
       "  <tbody>\n",
       "    <tr>\n",
       "      <th>12</th>\n",
       "      <td>0.108696</td>\n",
       "      <td>0</td>\n",
       "      <td>0.496099</td>\n",
       "      <td>0.0</td>\n",
       "      <td>0</td>\n",
       "      <td>0.011253</td>\n",
       "      <td>0</td>\n",
       "      <td>0</td>\n",
       "      <td>1</td>\n",
       "    </tr>\n",
       "    <tr>\n",
       "      <th>306</th>\n",
       "      <td>0.217391</td>\n",
       "      <td>1</td>\n",
       "      <td>0.310465</td>\n",
       "      <td>0.4</td>\n",
       "      <td>0</td>\n",
       "      <td>0.304170</td>\n",
       "      <td>0</td>\n",
       "      <td>0</td>\n",
       "      <td>1</td>\n",
       "    </tr>\n",
       "    <tr>\n",
       "      <th>318</th>\n",
       "      <td>0.565217</td>\n",
       "      <td>1</td>\n",
       "      <td>0.314366</td>\n",
       "      <td>0.0</td>\n",
       "      <td>0</td>\n",
       "      <td>0.100550</td>\n",
       "      <td>1</td>\n",
       "      <td>0</td>\n",
       "      <td>0</td>\n",
       "    </tr>\n",
       "    <tr>\n",
       "      <th>815</th>\n",
       "      <td>0.043478</td>\n",
       "      <td>1</td>\n",
       "      <td>0.417003</td>\n",
       "      <td>0.0</td>\n",
       "      <td>0</td>\n",
       "      <td>0.012068</td>\n",
       "      <td>0</td>\n",
       "      <td>1</td>\n",
       "      <td>0</td>\n",
       "    </tr>\n",
       "    <tr>\n",
       "      <th>157</th>\n",
       "      <td>0.000000</td>\n",
       "      <td>0</td>\n",
       "      <td>0.247915</td>\n",
       "      <td>0.0</td>\n",
       "      <td>1</td>\n",
       "      <td>0.229795</td>\n",
       "      <td>0</td>\n",
       "      <td>0</td>\n",
       "      <td>0</td>\n",
       "    </tr>\n",
       "  </tbody>\n",
       "</table>\n",
       "</div>"
      ],
      "text/plain": [
       "          age  sex       bmi  children  smoker   charges  northwest  \\\n",
       "12   0.108696    0  0.496099       0.0       0  0.011253          0   \n",
       "306  0.217391    1  0.310465       0.4       0  0.304170          0   \n",
       "318  0.565217    1  0.314366       0.0       0  0.100550          1   \n",
       "815  0.043478    1  0.417003       0.0       0  0.012068          0   \n",
       "157  0.000000    0  0.247915       0.0       1  0.229795          0   \n",
       "\n",
       "     southeast  southwest  \n",
       "12           0          1  \n",
       "306          0          1  \n",
       "318          0          0  \n",
       "815          1          0  \n",
       "157          0          0  "
      ]
     },
     "execution_count": 26,
     "metadata": {},
     "output_type": "execute_result"
    }
   ],
   "source": [
    "# Transform the test data\n",
    "\n",
    "df_test[num_vars] = scaler.transform(df_test[num_vars])\n",
    "df_test.head()"
   ]
  },
  {
   "cell_type": "code",
   "execution_count": 27,
   "id": "43c701da",
   "metadata": {},
   "outputs": [
    {
     "data": {
      "text/html": [
       "<div>\n",
       "<style scoped>\n",
       "    .dataframe tbody tr th:only-of-type {\n",
       "        vertical-align: middle;\n",
       "    }\n",
       "\n",
       "    .dataframe tbody tr th {\n",
       "        vertical-align: top;\n",
       "    }\n",
       "\n",
       "    .dataframe thead th {\n",
       "        text-align: right;\n",
       "    }\n",
       "</style>\n",
       "<table border=\"1\" class=\"dataframe\">\n",
       "  <thead>\n",
       "    <tr style=\"text-align: right;\">\n",
       "      <th></th>\n",
       "      <th>age</th>\n",
       "      <th>sex</th>\n",
       "      <th>bmi</th>\n",
       "      <th>children</th>\n",
       "      <th>smoker</th>\n",
       "      <th>charges</th>\n",
       "      <th>northwest</th>\n",
       "      <th>southeast</th>\n",
       "      <th>southwest</th>\n",
       "    </tr>\n",
       "  </thead>\n",
       "  <tbody>\n",
       "    <tr>\n",
       "      <th>count</th>\n",
       "      <td>402.000000</td>\n",
       "      <td>402.000000</td>\n",
       "      <td>402.000000</td>\n",
       "      <td>402.000000</td>\n",
       "      <td>402.000000</td>\n",
       "      <td>402.000000</td>\n",
       "      <td>402.000000</td>\n",
       "      <td>402.000000</td>\n",
       "      <td>402.000000</td>\n",
       "    </tr>\n",
       "    <tr>\n",
       "      <th>mean</th>\n",
       "      <td>0.467662</td>\n",
       "      <td>0.477612</td>\n",
       "      <td>0.387383</td>\n",
       "      <td>0.215423</td>\n",
       "      <td>0.228856</td>\n",
       "      <td>0.197677</td>\n",
       "      <td>0.238806</td>\n",
       "      <td>0.248756</td>\n",
       "      <td>0.243781</td>\n",
       "    </tr>\n",
       "    <tr>\n",
       "      <th>std</th>\n",
       "      <td>0.304236</td>\n",
       "      <td>0.500121</td>\n",
       "      <td>0.156621</td>\n",
       "      <td>0.241072</td>\n",
       "      <td>0.420620</td>\n",
       "      <td>0.192579</td>\n",
       "      <td>0.426885</td>\n",
       "      <td>0.432831</td>\n",
       "      <td>0.429897</td>\n",
       "    </tr>\n",
       "    <tr>\n",
       "      <th>min</th>\n",
       "      <td>0.000000</td>\n",
       "      <td>0.000000</td>\n",
       "      <td>0.023002</td>\n",
       "      <td>0.000000</td>\n",
       "      <td>0.000000</td>\n",
       "      <td>0.000154</td>\n",
       "      <td>0.000000</td>\n",
       "      <td>0.000000</td>\n",
       "      <td>0.000000</td>\n",
       "    </tr>\n",
       "    <tr>\n",
       "      <th>25%</th>\n",
       "      <td>0.195652</td>\n",
       "      <td>0.000000</td>\n",
       "      <td>0.278585</td>\n",
       "      <td>0.000000</td>\n",
       "      <td>0.000000</td>\n",
       "      <td>0.060686</td>\n",
       "      <td>0.000000</td>\n",
       "      <td>0.000000</td>\n",
       "      <td>0.000000</td>\n",
       "    </tr>\n",
       "    <tr>\n",
       "      <th>50%</th>\n",
       "      <td>0.478261</td>\n",
       "      <td>0.000000</td>\n",
       "      <td>0.383105</td>\n",
       "      <td>0.200000</td>\n",
       "      <td>0.000000</td>\n",
       "      <td>0.138259</td>\n",
       "      <td>0.000000</td>\n",
       "      <td>0.000000</td>\n",
       "      <td>0.000000</td>\n",
       "    </tr>\n",
       "    <tr>\n",
       "      <th>75%</th>\n",
       "      <td>0.733696</td>\n",
       "      <td>1.000000</td>\n",
       "      <td>0.483051</td>\n",
       "      <td>0.400000</td>\n",
       "      <td>0.000000</td>\n",
       "      <td>0.254641</td>\n",
       "      <td>0.000000</td>\n",
       "      <td>0.000000</td>\n",
       "      <td>0.000000</td>\n",
       "    </tr>\n",
       "    <tr>\n",
       "      <th>max</th>\n",
       "      <td>1.000000</td>\n",
       "      <td>1.000000</td>\n",
       "      <td>0.890503</td>\n",
       "      <td>1.000000</td>\n",
       "      <td>1.000000</td>\n",
       "      <td>0.940158</td>\n",
       "      <td>1.000000</td>\n",
       "      <td>1.000000</td>\n",
       "      <td>1.000000</td>\n",
       "    </tr>\n",
       "  </tbody>\n",
       "</table>\n",
       "</div>"
      ],
      "text/plain": [
       "              age         sex         bmi    children      smoker     charges  \\\n",
       "count  402.000000  402.000000  402.000000  402.000000  402.000000  402.000000   \n",
       "mean     0.467662    0.477612    0.387383    0.215423    0.228856    0.197677   \n",
       "std      0.304236    0.500121    0.156621    0.241072    0.420620    0.192579   \n",
       "min      0.000000    0.000000    0.023002    0.000000    0.000000    0.000154   \n",
       "25%      0.195652    0.000000    0.278585    0.000000    0.000000    0.060686   \n",
       "50%      0.478261    0.000000    0.383105    0.200000    0.000000    0.138259   \n",
       "75%      0.733696    1.000000    0.483051    0.400000    0.000000    0.254641   \n",
       "max      1.000000    1.000000    0.890503    1.000000    1.000000    0.940158   \n",
       "\n",
       "        northwest   southeast   southwest  \n",
       "count  402.000000  402.000000  402.000000  \n",
       "mean     0.238806    0.248756    0.243781  \n",
       "std      0.426885    0.432831    0.429897  \n",
       "min      0.000000    0.000000    0.000000  \n",
       "25%      0.000000    0.000000    0.000000  \n",
       "50%      0.000000    0.000000    0.000000  \n",
       "75%      0.000000    0.000000    0.000000  \n",
       "max      1.000000    1.000000    1.000000  "
      ]
     },
     "execution_count": 27,
     "metadata": {},
     "output_type": "execute_result"
    }
   ],
   "source": [
    "df_test.describe()"
   ]
  },
  {
   "cell_type": "markdown",
   "id": "8dca38e1",
   "metadata": {},
   "source": [
    "### Model Selection"
   ]
  },
  {
   "cell_type": "code",
   "execution_count": 28,
   "id": "105d0418",
   "metadata": {
    "scrolled": true
   },
   "outputs": [
    {
     "data": {
      "image/png": "[encoded data removed]",
      "text/plain": [
       "<Figure size 1152x720 with 2 Axes>"
      ]
     },
     "metadata": {
      "needs_background": "light"
     },
     "output_type": "display_data"
    }
   ],
   "source": [
    "# Heatmap\n",
    "\n",
    "plt.figure(figsize = (16,10))\n",
    "sns.heatmap(df_train.corr(), annot = True, cmap = 'YlGnBu')\n",
    "plt.show()"
   ]
  },
  {
   "cell_type": "code",
   "execution_count": 29,
   "id": "c1732d8b",
   "metadata": {},
   "outputs": [],
   "source": [
    "# X_train, y_train\n",
    "\n",
    "y_train = df_train.pop('charges')\n",
    "X_train = df_train"
   ]
  },
  {
   "cell_type": "code",
   "execution_count": 30,
   "id": "f2335a3b",
   "metadata": {},
   "outputs": [
    {
     "data": {
      "text/plain": [
       "966     0.364661\n",
       "522     0.139579\n",
       "155     0.093008\n",
       "671     0.045040\n",
       "1173    0.085173\n",
       "          ...   \n",
       "802     0.015662\n",
       "53      0.584542\n",
       "350     0.170933\n",
       "79      0.086980\n",
       "792     0.025700\n",
       "Name: charges, Length: 936, dtype: float64"
      ]
     },
     "execution_count": 30,
     "metadata": {},
     "output_type": "execute_result"
    }
   ],
   "source": [
    "y_train"
   ]
  },
  {
   "cell_type": "code",
   "execution_count": 31,
   "id": "37a84932",
   "metadata": {},
   "outputs": [],
   "source": [
    "# Create an object using the LinearRegression() class\n",
    "lr = LinearRegression()\n",
    "\n",
    "# Create an object using the RidgeClassifier() class\n",
    "rv = RidgeCV()\n",
    "\n",
    "# Create an object using the DecisionTreeRegressor() class\n",
    "dt = DecisionTreeRegressor()\n",
    "\n",
    "# Create an object using the RandomForestRegressor() class\n",
    "rf = RandomForestRegressor()\n",
    "\n",
    "# Create an object using the MLPRegressor() class\n",
    "nlp = MLPRegressor()"
   ]
  },
  {
   "cell_type": "code",
   "execution_count": 32,
   "id": "a13d0e8e",
   "metadata": {},
   "outputs": [
    {
     "data": {
      "text/plain": [
       "MLPRegressor()"
      ]
     },
     "execution_count": 32,
     "metadata": {},
     "output_type": "execute_result"
    }
   ],
   "source": [
    "# Train the Logistic Classifier model\n",
    "lr.fit(X_train, y_train)\n",
    "\n",
    "# Train the Ridge Classifier model\n",
    "rv.fit(X_train, y_train)\n",
    "\n",
    "# Train the Decision Tree model\n",
    "dt.fit(X_train, y_train)\n",
    "\n",
    "# Train the Random forest model\n",
    "rf.fit(X_train, y_train)\n",
    "\n",
    "# Train the Neural Network model\n",
    "nlp.fit(X_train, y_train)"
   ]
  },
  {
   "cell_type": "code",
   "execution_count": 33,
   "id": "8c26da9f",
   "metadata": {},
   "outputs": [],
   "source": [
    "# Make prediction using the train dataset on Linear Regression model\n",
    "lr_train_pred = lr.predict(X_train)\n",
    "\n",
    "# Make prediction using the train dataset on Ridge Regression model\n",
    "rv_train_pred = rv.predict(X_train)\n",
    "\n",
    "# Make prediction using the train dataset on Decision Tree Regression model\n",
    "dt_train_pred = dt.predict(X_train)\n",
    "\n",
    "# Make prediction using the train dataset on Random Forest Regression model\n",
    "rf_train_pred = rf.predict(X_train)\n",
    "\n",
    "# Make prediction using the train dataset on Neural Network Regression model\n",
    "nlp_train_pred = nlp.predict(X_train)"
   ]
  },
  {
   "cell_type": "code",
   "execution_count": 34,
   "id": "64208ac3",
   "metadata": {},
   "outputs": [],
   "source": [
    "# Calculate residual for Linear Regression model\n",
    "lr_train_res = y_train - lr_train_pred\n",
    "\n",
    "# Calculate residual for Ridge Regression model\n",
    "rv_train_res = y_train, rv_train_pred\n",
    "\n",
    "# Calculate residual for Decision Tree Regression model\n",
    "dt_train_res = y_train- dt_train_pred\n",
    "\n",
    "# Calculate residual for Random Forest Regression model\n",
    "rf_train_res = y_train- rf_train_pred\n",
    "\n",
    "# Calculate residual for Neural Network Regression model\n",
    "nlp_train_res = y_train- nlp_train_pred"
   ]
  },
  {
   "cell_type": "code",
   "execution_count": 35,
   "id": "d3de49fa",
   "metadata": {},
   "outputs": [
    {
     "name": "stdout",
     "output_type": "stream",
     "text": [
      "***** Linear Regression *****\n",
      "R2 Score:  0.7378638257001523\n",
      "RMSE value:  0.09911483202457173\n",
      "\n",
      "***** Ridge Regression *****\n",
      "R2 Score:  0.7378630830655089\n",
      "RMSE value:  0.09911497242117287\n",
      "\n",
      "***** Decision Tree Regression *****\n",
      "R2 Score:  0.9986693373529103\n",
      "RMSE value:  0.0070616982148494455\n",
      "\n",
      "***** Random Forest Regression *****\n",
      "R2 Score:  0.9743103437289234\n",
      "RMSE value:  0.031028038206414216\n",
      "\n",
      "***** Neural Network Regression *****\n",
      "R2 Score:  0.7553634806379537\n",
      "RMSE value:  0.09574934579840932\n"
     ]
    }
   ],
   "source": [
    "# Evaluate for Linear Regression model\n",
    "print('***** Linear Regression *****')\n",
    "print('R2 Score: ',r2_score(y_true = y_train, y_pred = lr_train_pred))\n",
    "print('RMSE value: ', mean_squared_error(y_train, lr_train_pred, squared=False))\n",
    "print('')\n",
    "\n",
    "# Evaluate for Ridge Regression model\n",
    "print('***** Ridge Regression *****')\n",
    "print('R2 Score: ',r2_score(y_true = y_train, y_pred = rv_train_pred))\n",
    "print('RMSE value: ', mean_squared_error(y_train, rv_train_pred, squared=False))\n",
    "print('')\n",
    "\n",
    "# Evaluate for Decision Tree Regression model\n",
    "print('***** Decision Tree Regression *****')\n",
    "print('R2 Score: ',r2_score(y_true = y_train, y_pred = dt_train_pred))\n",
    "print('RMSE value: ', mean_squared_error(y_train, dt_train_pred, squared=False))\n",
    "print('')\n",
    "\n",
    "# Evaluate for Random Forest Regression model\n",
    "print('***** Random Forest Regression *****')\n",
    "print('R2 Score: ',r2_score(y_true = y_train, y_pred = rf_train_pred))\n",
    "print('RMSE value: ', mean_squared_error(y_train, rf_train_pred, squared=False))\n",
    "print('')\n",
    "\n",
    "# Evaluate for Neural Network Regression model\n",
    "print('***** Neural Network Regression *****')\n",
    "print('R2 Score: ',r2_score(y_true = y_train, y_pred = nlp_train_pred))\n",
    "print('RMSE value: ', mean_squared_error(y_train, nlp_train_pred, squared=False))"
   ]
  },
  {
   "cell_type": "code",
   "execution_count": 36,
   "id": "f74d17ab",
   "metadata": {},
   "outputs": [
    {
     "data": {
      "text/plain": [
       "<AxesSubplot:xlabel='charges', ylabel='Density'>"
      ]
     },
     "execution_count": 36,
     "metadata": {},
     "output_type": "execute_result"
    },
    {
     "data": {
      "image/png": "[encoded data removed]",
      "text/plain": [
       "<Figure size 432x288 with 1 Axes>"
      ]
     },
     "metadata": {
      "needs_background": "light"
     },
     "output_type": "display_data"
    }
   ],
   "source": [
    "# Print the report of the Linear Regression model\n",
    "\n",
    "sns.distplot(lr_train_res)"
   ]
  },
  {
   "cell_type": "code",
   "execution_count": 37,
   "id": "b2a305d0",
   "metadata": {},
   "outputs": [
    {
     "data": {
      "text/plain": [
       "<AxesSubplot:ylabel='Density'>"
      ]
     },
     "execution_count": 37,
     "metadata": {},
     "output_type": "execute_result"
    },
    {
     "data": {
      "image/png": "[encoded data removed]",
      "text/plain": [
       "<Figure size 432x288 with 1 Axes>"
      ]
     },
     "metadata": {
      "needs_background": "light"
     },
     "output_type": "display_data"
    }
   ],
   "source": [
    "# Print the report of the Ridge Regression model\n",
    "\n",
    "sns.distplot(rv_train_res)"
   ]
  },
  {
   "cell_type": "code",
   "execution_count": 38,
   "id": "6a6cb29f",
   "metadata": {},
   "outputs": [
    {
     "data": {
      "text/plain": [
       "<AxesSubplot:xlabel='charges', ylabel='Density'>"
      ]
     },
     "execution_count": 38,
     "metadata": {},
     "output_type": "execute_result"
    },
    {
     "data": {
      "image/png": "[encoded data removed]",
      "text/plain": [
       "<Figure size 432x288 with 1 Axes>"
      ]
     },
     "metadata": {
      "needs_background": "light"
     },
     "output_type": "display_data"
    }
   ],
   "source": [
    "# Print the report of the Decision Tree Regression model\n",
    "\n",
    "sns.distplot(dt_train_res)"
   ]
  },
  {
   "cell_type": "code",
   "execution_count": 39,
   "id": "78007f4e",
   "metadata": {},
   "outputs": [
    {
     "data": {
      "text/plain": [
       "<AxesSubplot:xlabel='charges', ylabel='Density'>"
      ]
     },
     "execution_count": 39,
     "metadata": {},
     "output_type": "execute_result"
    },
    {
     "data": {
      "image/png": "[encoded data removed]",
      "text/plain": [
       "<Figure size 432x288 with 1 Axes>"
      ]
     },
     "metadata": {
      "needs_background": "light"
     },
     "output_type": "display_data"
    }
   ],
   "source": [
    "# Print the report of the Random Forest Regression model\n",
    "\n",
    "sns.distplot(rf_train_res)"
   ]
  },
  {
   "cell_type": "code",
   "execution_count": 40,
   "id": "8ebc6a3d",
   "metadata": {},
   "outputs": [
    {
     "data": {
      "text/plain": [
       "<AxesSubplot:xlabel='charges', ylabel='Density'>"
      ]
     },
     "execution_count": 40,
     "metadata": {},
     "output_type": "execute_result"
    },
    {
     "data": {
      "image/png": "[encoded data removed]",
      "text/plain": [
       "<Figure size 432x288 with 1 Axes>"
      ]
     },
     "metadata": {
      "needs_background": "light"
     },
     "output_type": "display_data"
    }
   ],
   "source": [
    "# Print the report of the Neural Network Regression model\n",
    "\n",
    "sns.distplot(nlp_train_res)"
   ]
  },
  {
   "cell_type": "code",
   "execution_count": 41,
   "id": "75dffc05",
   "metadata": {},
   "outputs": [],
   "source": [
    "# X-test, y_test\n",
    "\n",
    "y_test = df_test.pop('charges')\n",
    "X_test = df_test"
   ]
  },
  {
   "cell_type": "code",
   "execution_count": 42,
   "id": "a330e77b",
   "metadata": {},
   "outputs": [],
   "source": [
    "# Make prediction using the train dataset on Linear Regression model\n",
    "lr_test_pred = lr.predict(X_test)\n",
    "\n",
    "# Make prediction using the train dataset on Ridge Regression model\n",
    "rv_test_pred = rv.predict(X_test)\n",
    "\n",
    "# Make prediction using the train dataset on Decision Tree Regression model\n",
    "dt_test_pred = dt.predict(X_test)\n",
    "\n",
    "# Make prediction using the train dataset on Random Forest Regression model\n",
    "rf_test_pred = rf.predict(X_test)\n",
    "\n",
    "# Make prediction using the train dataset on Neural Network Regression model\n",
    "nlp_test_pred = nlp.predict(X_test)"
   ]
  },
  {
   "cell_type": "code",
   "execution_count": 43,
   "id": "589a56c9",
   "metadata": {},
   "outputs": [],
   "source": [
    "# Calculate residual for Linear Regression model\n",
    "lr_test_res = y_test - lr_test_pred\n",
    "\n",
    "# Calculate residual for Ridge Regression model\n",
    "rv_test_res = y_test- rv_test_pred\n",
    "\n",
    "# Calculate residual for Decision Tree Regression model\n",
    "dt_test_res = y_test- dt_test_pred\n",
    "\n",
    "# Calculate residual for Random Forest Regression model\n",
    "rf_test_res = y_test- rf_test_pred\n",
    "\n",
    "# Calculate residual for Neural Network Regression model\n",
    "nlp_test_res = y_test- nlp_test_pred"
   ]
  },
  {
   "cell_type": "code",
   "execution_count": 44,
   "id": "cae9519f",
   "metadata": {},
   "outputs": [
    {
     "name": "stdout",
     "output_type": "stream",
     "text": [
      "***** Linear Regression *****\n",
      "R2 Score:  0.7772310511733103\n",
      "RMSE value:  0.09078124384422025\n",
      "\n",
      "***** Ridge Regression *****\n",
      "R2 Score:  0.777174043039605\n",
      "RMSE value:  0.09079285887912458\n",
      "\n",
      "***** Decision Tree Regression *****\n",
      "R2 Score:  0.7074684552428157\n",
      "RMSE value:  0.10402917478283244\n",
      "\n",
      "***** Random Forest Regression *****\n",
      "R2 Score:  0.8594203518382302\n",
      "RMSE value:  0.07211573384054801\n",
      "\n",
      "***** Neural Network Regression *****\n",
      "R2 Score:  0.7693561642962476\n",
      "RMSE value:  0.09237186818442587\n"
     ]
    }
   ],
   "source": [
    "# Evaluate for Linear Regression model\n",
    "print('***** Linear Regression *****')\n",
    "print('R2 Score: ',r2_score(y_true = y_test, y_pred = lr_test_pred))\n",
    "print('RMSE value: ', mean_squared_error(y_test, lr_test_pred, squared=False))\n",
    "\n",
    "print('')\n",
    "\n",
    "# Evaluate for Ridge Regression model\n",
    "print('***** Ridge Regression *****')\n",
    "print('R2 Score: ',r2_score(y_true = y_test, y_pred = rv_test_pred))\n",
    "print('RMSE value: ', mean_squared_error(y_test, rv_test_pred, squared=False))\n",
    "print('')\n",
    "\n",
    "# Evaluate for Decision Tree Regression model\n",
    "print('***** Decision Tree Regression *****')\n",
    "print('R2 Score: ',r2_score(y_true = y_test, y_pred = dt_test_pred))\n",
    "print('RMSE value: ', mean_squared_error(y_test, dt_test_pred, squared=False))\n",
    "print('')\n",
    "\n",
    "# Evaluate for Random Forest Regression model\n",
    "print('***** Random Forest Regression *****')\n",
    "print('R2 Score: ',r2_score(y_true = y_test, y_pred = rf_test_pred))\n",
    "print('RMSE value: ', mean_squared_error(y_test, rf_test_pred, squared=False))\n",
    "print('')\n",
    "\n",
    "# Evaluate for Neural Network Regression model\n",
    "print('***** Neural Network Regression *****')\n",
    "print('R2 Score: ',r2_score(y_true = y_test, y_pred = nlp_test_pred))\n",
    "print('RMSE value: ', mean_squared_error(y_test, nlp_test_pred, squared=False))"
   ]
  },
  {
   "cell_type": "markdown",
   "id": "d7e15745",
   "metadata": {},
   "source": [
    "#### Observation:\n",
    "From the above analysis we can see that \"Decision Tree\" and \"Random Forest\" are giving better results than rest of the models. However due to issue of overfitting the test results are varying greatly from train results. However the performance seems to be better incase of \"Random Forest\". Hence we will proceed further with \"Random Forest\" for hyperparameter tuning to resolve the issue of overfitting and get an optimised model."
   ]
  },
  {
   "cell_type": "markdown",
   "id": "b8984443",
   "metadata": {},
   "source": [
    "### Hyperparameter Tuning"
   ]
  },
  {
   "cell_type": "markdown",
   "id": "af00247b",
   "metadata": {},
   "source": [
    "#### Random Forest using GridSearchCV"
   ]
  },
  {
   "cell_type": "code",
   "execution_count": 45,
   "id": "9c87b895",
   "metadata": {},
   "outputs": [
    {
     "data": {
      "text/plain": [
       "GridSearchCV(cv=10, estimator=RandomForestRegressor(),\n",
       "             param_grid=[{'bootstrap': [True, False],\n",
       "                          'max_depth': [5, 10, 50, None],\n",
       "                          'max_features': [5, 10, 20],\n",
       "                          'n_estimators': [50, 60, 70]}],\n",
       "             scoring='neg_mean_squared_error')"
      ]
     },
     "execution_count": 45,
     "metadata": {},
     "output_type": "execute_result"
    }
   ],
   "source": [
    "from sklearn.model_selection import GridSearchCV\n",
    "\n",
    "param_grid = [\n",
    "{'n_estimators': [50, 60, 70], 'max_features': [5, 10, 20], \n",
    " 'max_depth': [5, 10, 50, None], 'bootstrap': [True, False]}\n",
    "]\n",
    "\n",
    "grid_search_forest = GridSearchCV(rf, param_grid, cv=10, scoring='neg_mean_squared_error')\n",
    "grid_search_forest.fit(X_train, y_train)"
   ]
  },
  {
   "cell_type": "code",
   "execution_count": 46,
   "id": "a39c6327",
   "metadata": {},
   "outputs": [
    {
     "data": {
      "text/plain": [
       "RandomForestRegressor(max_depth=5, max_features=5, n_estimators=50)"
      ]
     },
     "execution_count": 46,
     "metadata": {},
     "output_type": "execute_result"
    }
   ],
   "source": [
    "#find the best model of grid search\n",
    "grid_search_forest.best_estimator_"
   ]
  },
  {
   "cell_type": "code",
   "execution_count": 47,
   "id": "8c721055",
   "metadata": {},
   "outputs": [],
   "source": [
    "y_train_pred = grid_search_forest.best_estimator_.predict(X_train)\n",
    "y_test_pred = grid_search_forest.best_estimator_.predict(X_test)"
   ]
  },
  {
   "cell_type": "code",
   "execution_count": 48,
   "id": "5d3a6d20",
   "metadata": {},
   "outputs": [
    {
     "name": "stdout",
     "output_type": "stream",
     "text": [
      "Train R2 Score:  0.8749840481729949\n",
      "Train MSE:  0.004685066648840147\n",
      "Train RMSE:  0.06844754669701572\n"
     ]
    }
   ],
   "source": [
    "#RMSE\n",
    "train_mse = mean_squared_error(y_train, y_train_pred)\n",
    "train_rmse = np.sqrt(train_mse)\n",
    "print('Train R2 Score: ', r2_score(y_train, y_train_pred))\n",
    "print('Train MSE: ',train_mse)\n",
    "print('Train RMSE: ', train_rmse)"
   ]
  },
  {
   "cell_type": "code",
   "execution_count": 49,
   "id": "05eb58a7",
   "metadata": {
    "scrolled": true
   },
   "outputs": [
    {
     "name": "stdout",
     "output_type": "stream",
     "text": [
      "Test R2 Score:  0.8919634203358965\n",
      "Test MSE:  0.003996763299064461\n",
      "Test RMSE:  0.06321995965725113\n"
     ]
    }
   ],
   "source": [
    "#RMSE\n",
    "test_mse = mean_squared_error(y_test, y_test_pred)\n",
    "test_rmse = np.sqrt(test_mse)\n",
    "print('Test R2 Score: ', r2_score(y_test, y_test_pred))\n",
    "print('Test MSE: ',test_mse)\n",
    "print('Test RMSE: ', test_rmse)"
   ]
  },
  {
   "cell_type": "markdown",
   "id": "e4280811",
   "metadata": {},
   "source": [
    "#### Feature Importance"
   ]
  },
  {
   "cell_type": "code",
   "execution_count": 50,
   "id": "6bfb5d37",
   "metadata": {},
   "outputs": [
    {
     "name": "stdout",
     "output_type": "stream",
     "text": [
      "   importance    feature\n",
      "0    0.709215     smoker\n",
      "1    0.146055        bmi\n",
      "2    0.124747        age\n",
      "3    0.009250   children\n",
      "4    0.003820  southeast\n",
      "5    0.003371  southwest\n",
      "6    0.002030        sex\n",
      "7    0.001511  northwest\n"
     ]
    }
   ],
   "source": [
    "# extract the numerical values of feature importance from the grid search\n",
    "importances = grid_search_forest.best_estimator_.feature_importances_\n",
    "\n",
    "#create a feature list from the original dataset (list of columns)\n",
    "# What are this numbers? Let's get back to the columns of the original dataset\n",
    "feature_list = list(X_train.columns)\n",
    "\n",
    "#create a list of tuples\n",
    "feature_importance= sorted(zip(importances, feature_list), reverse=True)\n",
    "\n",
    "#create two lists from the previous list of tuples\n",
    "df = pd.DataFrame(feature_importance, columns=['importance', 'feature'])\n",
    "importance= list(df['importance'])\n",
    "feature= list(df['feature'])\n",
    "\n",
    "#see df\n",
    "print(df)"
   ]
  },
  {
   "cell_type": "markdown",
   "id": "6798558e",
   "metadata": {},
   "source": [
    "### Conclusions\n",
    "1. The rate of a health insurance is highly dependent on the smoking behaviour of a person.\n",
    "2. The final model has a R2 score of 88 percentage which is good.\n",
    "3. We have chosen Random Forest as it was performing better on test data without any hyperparameter tuning.\n",
    "4. There is still scope of improvement to this model as we have not added any derived features like \"age group\" etc."
   ]
  }
 ],
 "metadata": {
  "kernelspec": {
   "display_name": "Python 3 (ipykernel)",
   "language": "python",
   "name": "python3"
  },
  "language_info": {
   "codemirror_mode": {
    "name": "ipython",
    "version": 3
   },
   "file_extension": ".py",
   "mimetype": "text/x-python",
   "name": "python",
   "nbconvert_exporter": "python",
   "pygments_lexer": "ipython3",
   "version": "3.9.12"
  }
 },
 "nbformat": 4,
 "nbformat_minor": 5
}
